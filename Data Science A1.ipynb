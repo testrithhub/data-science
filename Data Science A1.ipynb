{
 "cells": [
  {
   "cell_type": "code",
   "execution_count": 1,
   "id": "da01a150",
   "metadata": {},
   "outputs": [
    {
     "name": "stdout",
     "output_type": "stream",
     "text": [
      "\n",
      "\t Twinkle, twinkle, little star,\n",
      " \t How I wonder what you are! \n",
      " \t\t Up above the world so high, \n",
      " \t\t Like a diamond in the sky. \n",
      " \t Twinkle, twinkle, little star, \n",
      " \t How I wonder what you are! \n"
     ]
    }
   ],
   "source": [
    "#1. Write a Python program to print the following string in a specific format (see the \n",
    "#output). \n",
    "#            Twinkle, twinkle, little star, \n",
    "#               How I wonder what you are! \n",
    "#                    #Up above the world so high, \n",
    "#                     #Like a diamond in the sky. \n",
    "#            Twinkle, twinkle, little star, \n",
    "#                How I wonder what you are\n",
    "print(\"\\n\\t Twinkle, twinkle, little star,\\n \\t How I wonder what you are! \\n \\t\\t Up above the world so high, \\n \\t\\t Like a diamond in the sky. \\n \\t Twinkle, twinkle, little star, \\n \\t How I wonder what you are! \")"
   ]
  },
  {
   "cell_type": "code",
   "execution_count": 2,
   "id": "24db66cc",
   "metadata": {},
   "outputs": [
    {
     "name": "stdout",
     "output_type": "stream",
     "text": [
      "python version\n",
      "3.8.8 (default, Apr 13 2021, 15:08:03) [MSC v.1916 64 bit (AMD64)]\n",
      "version information.\n",
      "sys.version_info(major=3, minor=8, micro=8, releaselevel='final', serial=0)\n"
     ]
    }
   ],
   "source": [
    "#2. Write a Python program to get the Python version you are using\n",
    "\n",
    "import sys\n",
    "print(\"python version\")\n",
    "print(sys.version)\n",
    "print(\"version information.\")\n",
    "print(sys.version_info)\n"
   ]
  },
  {
   "cell_type": "code",
   "execution_count": 3,
   "id": "5b66f7ad",
   "metadata": {},
   "outputs": [
    {
     "name": "stdout",
     "output_type": "stream",
     "text": [
      "current date and time is :\n",
      "21-12-29 10:33:02\n"
     ]
    }
   ],
   "source": [
    "#3. Write a Python program to display the current date and time. \n",
    "\n",
    "import datetime\n",
    "now= datetime.datetime.now()\n",
    "print(\"current date and time is :\")\n",
    "print(now.strftime(\"%y-%m-%d %H:%M:%S\"))\n"
   ]
  },
  {
   "cell_type": "code",
   "execution_count": 5,
   "id": "4358f355",
   "metadata": {},
   "outputs": [
    {
     "name": "stdout",
     "output_type": "stream",
     "text": [
      " enter the number:5\n",
      "78.5 metresquare\n"
     ]
    }
   ],
   "source": [
    "#4. Write a Python program which accepts the radius of a circle from the user and compute \n",
    "#the area.\n",
    "\n",
    "r =eval(input(\" enter the number:\"))\n",
    "pi=3.14\n",
    "area=pi*r*r\n",
    "print(area,\"metresquare\")\n"
   ]
  },
  {
   "cell_type": "code",
   "execution_count": 6,
   "id": "9d8b97f0",
   "metadata": {},
   "outputs": [
    {
     "name": "stdout",
     "output_type": "stream",
     "text": [
      "Enter your First Name:Muhammad\n",
      "Enter your last Name:Saqib\n",
      "Saqib Muhammad\n"
     ]
    }
   ],
   "source": [
    "#5. Write a Python program which accepts the user's first and last name and print them in \n",
    "#reverse order with a space between them.\n",
    "\n",
    "firstname=str(input(\"Enter your First Name:\"))\n",
    "lastname=str(input(\"Enter your last Name:\"))\n",
    "print(lastname + \" \" + firstname)\n"
   ]
  },
  {
   "cell_type": "code",
   "execution_count": 7,
   "id": "d25972e3",
   "metadata": {},
   "outputs": [
    {
     "name": "stdout",
     "output_type": "stream",
     "text": [
      "Enter the number1:5\n",
      "Enter the number2:5\n",
      "10\n"
     ]
    }
   ],
   "source": [
    "#6. Write a python program which takes two inputs from user and print them addition\n",
    "\n",
    "num1=int(input(\"Enter the number1:\"))\n",
    "num2=int(input(\"Enter the number2:\"))\n",
    "total=num1+num2\n",
    "print(total)"
   ]
  },
  {
   "cell_type": "code",
   "execution_count": null,
   "id": "70cd9521",
   "metadata": {},
   "outputs": [],
   "source": []
  }
 ],
 "metadata": {
  "kernelspec": {
   "display_name": "Python 3",
   "language": "python",
   "name": "python3"
  },
  "language_info": {
   "codemirror_mode": {
    "name": "ipython",
    "version": 3
   },
   "file_extension": ".py",
   "mimetype": "text/x-python",
   "name": "python",
   "nbconvert_exporter": "python",
   "pygments_lexer": "ipython3",
   "version": "3.8.8"
  }
 },
 "nbformat": 4,
 "nbformat_minor": 5
}
